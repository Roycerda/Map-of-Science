{
 "cells": [
  {
   "cell_type": "code",
   "execution_count": 6,
   "id": "1c936588",
   "metadata": {},
   "outputs": [],
   "source": [
    "import re\n",
    "import csv"
   ]
  },
  {
   "cell_type": "code",
   "execution_count": 8,
   "id": "046ec9e3",
   "metadata": {},
   "outputs": [],
   "source": [
    "with open(\"data/pubmed-synthetic.txt\", \"r\", encoding=\"utf8\") as f:\n",
    "    my_text = f.read()"
   ]
  },
  {
   "cell_type": "code",
   "execution_count": 9,
   "id": "e2348a92",
   "metadata": {},
   "outputs": [
    {
     "data": {
      "text/plain": [
       "6040684"
      ]
     },
     "execution_count": 9,
     "metadata": {},
     "output_type": "execute_result"
    }
   ],
   "source": [
    "len(my_text)"
   ]
  },
  {
   "cell_type": "code",
   "execution_count": 10,
   "id": "b3b7c95e",
   "metadata": {},
   "outputs": [],
   "source": [
    "my_text = re.sub(r'\\n\\s{6}', ' ', my_text)"
   ]
  },
  {
   "cell_type": "code",
   "execution_count": 16,
   "id": "3d8d15c4",
   "metadata": {},
   "outputs": [
    {
     "name": "stdout",
     "output_type": "stream",
     "text": [
      "PMID- 24686414\n",
      "OWN - NLM\n",
      "STAT- MEDLINE\n",
      "DCOM- 20140917\n",
      "LR  - 20211021\n",
      "IS  - 1740-1534 (Electronic)\n",
      "IS  - 1740-1526 (Linking)\n",
      "VI  - 12\n",
      "IP  - 5\n",
      "DP  - 2014 May\n",
      "TI  - A brief history of synthetic biology.\n",
      "PG  - 381-90\n",
      "LID - 10.1038/nrmicro3239 [doi]\n",
      "AB  - The ability to rationally engineer microorganisms has been a long-envisioned goal  dating back more than a half-century. With the genomics revolution and rise of  systems biology in the 1990s came the development of a rigorous engineering  discipline to create, control and programme cellular behaviour. The resulting field,  known as synthetic biology, has undergone dramatic growth throughout the past decade  and is poised to transform biotechnology and medicine. This Timeline article charts  the technological and cultural lifetime of synthetic biology, with an emphasis on  key breakthroughs and future challenges.\n",
      "FAU - Cameron, D Ewen\n",
      "AU  - Cameron DE\n",
      "AD  - 1] Howard Hughes Medical Institute, the Center of Synthetic Biology and the  Department of Biomedical Engineering, Boston University, Boston, Massachusetts, USA.  [2] Wyss Institute for Biologically Inspired Engineering, Harvard University,  Boston, Massachusetts, USA. [3].\n",
      "FAU - Bashor, Caleb J\n",
      "AU  - Bashor CJ\n",
      "AD  - 1] Howard Hughes Medical Institute, the Center of Synthetic Biology and the  Department of Biomedical Engineering, Boston University, Boston, Massachusetts, USA.  [2] Wyss Institute for Biologically Inspired Engineering, Harvard University,  Boston, Massachusetts, USA. [3].\n",
      "FAU - Collins, James J\n",
      "AU  - Collins JJ\n",
      "AD  - 1] Howard Hughes Medical Institute, the Center of Synthetic Biology and the  Department of Biomedical Engineering, Boston University, Boston, Massachusetts, USA.  [2] Wyss Institute for Biologically Inspired Engineering, Harvard University,  Boston, Massachusetts, USA.\n",
      "LA  - eng\n",
      "GR  - HHMI/HHMI/United States\n",
      "PT  - Historical Article\n",
      "PT  - Research Support, Non-U.S. Gov't\n",
      "PT  - Review\n",
      "DEP - 20140401\n",
      "PL  - England\n",
      "TA  - Nat Rev Microbiol\n",
      "JT \n"
     ]
    }
   ],
   "source": [
    "print(my_text[:2000])"
   ]
  },
  {
   "cell_type": "code",
   "execution_count": 82,
   "id": "8cc49bf5",
   "metadata": {},
   "outputs": [
    {
     "name": "stdout",
     "output_type": "stream",
     "text": [
      "['USA', 'USA', 'USA', 'USA', 'USA', 'UK', 'UK', 'USA', 'USA', 'USA', 'USA', 'Switzerland', 'Switzerland', 'Switzerland', 'Switzerland', 'Switzerland', 'Switzerland', 'USA', 'USA', 'Switzerland', 'USA', 'Switzerland', 'Switzerland', 'Switzerland', ' Switzerland', 'USA', 'USA', 'USA', 'USA', 'Switzerland', 'Switzerland', 'Switzerland', ' Switzerland', 'China', 'China', 'China', 'China', 'China', 'Greece', 'Sweden', 'Australia', 'Australia', 'Greece', 'Sweden', 'Finland', 'Sweden', 'Finland', 'Sweden', ' China', 'China', 'China', 'China', 'China', 'United  Kindom', 'United Kingdom', 'United Kingdom', 'United Kingdom', 'Sweden', 'United Kingdom', 'China', 'China', 'China', 'China', 'China', 'China', 'China', 'China', ' China', 'China', 'China', 'China', ' China', 'China', 'China', 'China', 'China', 'China', 'China', ' China', 'China', 'China', 'Mexico', 'USA', 'Mexico', 'Mexico', 'United Kingdom', 'United Kingdom', 'United Kingdom', 'United Kingdom', 'USA', 'Brazil', 'Brazil', 'Brazil', 'Brazil', 'Brazil', 'Brazil', 'Brazil', 'Brazil', 'USA', 'USA', 'USA', 'Inc', 'USA', 'USA', 'USA', 'China', 'China', 'China', 'China', 'China', 'China', 'USA', 'USA', 'USA', 'USA', 'USA', 'China', 'China', 'China', 'China', 'UK', 'UK', 'China', 'China', 'China', 'China', 'China', 'China', 'China', 'PR China', 'China', 'China', 'China', 'China', 'China', 'China', 'China', 'China', 'China', 'China', 'China', 'China', 'China', 'China', 'USA', 'USA', 'China', 'China', 'China', 'PR China', 'United States', ' United States', 'United States', 'PR China', 'PR China', 'PR China', 'PR China', ' United States', ' United States', ' United States', 'United States', 'USA', 'USA', 'USA', 'USA', 'China', 'China', 'China', 'China', 'China', 'China', 'Australia', ' Australia', 'France', 'Australia', ' Australia', 'France', 'Australia c', ' Australia', 'South Korea', 'South Korea', 'South Korea', 'South Korea', 'France', ' Spain', 'France', 'France', 'France', 'France', 'France', 'China', ' China', 'China', 'China', 'China', 'Inc', 'USA', 'USA', 'USA', 'USA', 'USA', ' Brazil', 'India', 'India', 'India', 'USA', 'USA', 'UK', 'UK', 'UK', 'India', 'India', 'India', ' India', 'India', 'Email: sven', 'China', 'China', 'China', 'China', 'China', 'China', 'UK', 'UK', 'UK', ' USA', 'Taiwan', 'Germany', 'Spain', 'United States of America', 'United States of America', 'Denmark', 'USA', ' USA', 'USA', 'PR China', 'PR China', 'PR China', 'PR China', 'PR China', 'PR China', 'PR China', 'Spain', 'Spain', 'Spain', ' China', ' China', ' China', ' China', ' China', 'China', ' China', 'China', ' China', 'China', ' China', 'China', ' China', 'China', 'Korea', 'Korea', 'Korea', 'Korea', 'Korea', 'UK', 'USA', 'The Netherlands', 'The Netherlands', 'The Netherlands', 'The Netherlands', 'The Netherlands', ' India', ' India', ' India', 'India', ' India', 'Saudi Arabia', ' India', ' India', 'Malaysia', ' India', 'Germany', 'Germany', 'Germany', 'Germany', ' Germany', 'Germany', 'Germany', 'Germany', 'China', 'China', 'China', 'China', 'China', 'China', 'China', 'China', 'China', 'U', 'U', 'U', 'U', 'U', 'U', 'UK', 'Germany', 'Austria', ' Austria', 'Austria', 'Australia', 'Australia', 'Australia', 'Australia', ' Germany', ' Canada', 'Canada', 'Canada', 'Canada', 'France', ' Canada', 'USA', 'USA', 'USA', 'USA', 'USA', 'USA', 'USA', 'USA', 'USA', 'USA', 'Brazil', 'USA', 'USA', 'USA', 'USA', 'USA', 'USA', 'USA', 'USA', 'USA', 'PR China', 'Kgs', 'Denmark', 'PR China', 'PR China', 'PR China', 'PR China', 'PR China', 'PR China', 'China', 'USA', 'China', 'China', ' USA', ' USA', ' USA', 'USA', 'China', 'China', 'China', 'China', ' China', 'China', 'China', 'China', 'United States', 'The Netherlands', 'China', 'China', 'China', 'China', 'China', 'UK', 'UK', 'UK', 'UK', 'UK', 'UK', 'UK', 'UK', 'UK', 'UK', 'UK', 'China', 'China', 'China', 'China', 'China', ' USA', ' USA', 'Washington University in St', 'St', ' USA', 'Washington University in St', 'St', ' USA', 'China', 'China', 'China', 'China', 'China', 'China', 'China', 'China', 'China', 'China', 'China', ' China', 'China', 'China', 'China', 'China', 'China', 'China', 'China', 'China', 'China', ' China', 'China', 'China', 'China', 'China', 'China', 'China', 'China', 'China', 'China', 'China', 'China', 'China', 'China', 'China', 'China', 'China', 'China', 'China', 'China', 'China', 'China', 'China', 'Republic of Korea', 'Austria', 'China', 'China', 'China', 'China', 'China', 'China', 'UK', 'USA', 'China', 'China', 'China', 'China', 'China', 'China', 'China', 'Republic of  Korea', 'Republic of  Korea', 'Republic of  Korea', 'Republic of  Korea', 'Republic of Korea', 'Republic of  Korea', 'China', 'China', 'China', 'China', 'P', 'UK', 'UK', 'China', 'China', 'China', 'China', ' China', ' China', ' China', 'China', 'China', ' China', ' China', ' China', ' China', ' China', 'China', ' China', ' China', ' China', ' China', ' China', ' China', ' China', ' China', ' China', 'New Zealand', 'New Zealand', 'New Zealand', 'New Zealand', 'New Zealand']\n"
     ]
    },
    {
     "data": {
      "text/plain": [
       "9334"
      ]
     },
     "execution_count": 82,
     "metadata": {},
     "output_type": "execute_result"
    }
   ],
   "source": [
    "countries = []\n",
    "\n",
    "for ln in my_text.splitlines():\n",
    "    if ln.startswith(\"AD  -\"):\n",
    "        \n",
    "        adreess = ln[:]\n",
    "        country = re.findall(r'\\,\\s([\\sA-Za-z{2:50}]+)\\.', adreess)\n",
    "        countries.append(country)\n",
    "        \n",
    "# Unlist a list of lists\n",
    "import itertools\n",
    "countries = list(itertools.chain.from_iterable(countries))\n",
    "print(countries[1:500])\n",
    "len(countries)"
   ]
  },
  {
   "cell_type": "code",
   "execution_count": 103,
   "id": "5d517335",
   "metadata": {},
   "outputs": [],
   "source": [
    "zipcodes = re.findall(r'[A-Z]{2}\\s(\\d{5}), USA', my_text)"
   ]
  },
  {
   "cell_type": "code",
   "execution_count": 104,
   "id": "b528b0f5",
   "metadata": {},
   "outputs": [
    {
     "data": {
      "text/plain": [
       "241"
      ]
     },
     "execution_count": 104,
     "metadata": {},
     "output_type": "execute_result"
    }
   ],
   "source": [
    "len(zipcodes)"
   ]
  },
  {
   "cell_type": "code",
   "execution_count": 13,
   "id": "1ebfcdf5",
   "metadata": {},
   "outputs": [
    {
     "data": {
      "text/plain": [
       "['60637',\n",
       " '29634',\n",
       " '29634',\n",
       " '29634',\n",
       " '02115',\n",
       " '02115',\n",
       " '94305',\n",
       " '02115',\n",
       " '02115',\n",
       " '80303']"
      ]
     },
     "execution_count": 13,
     "metadata": {},
     "output_type": "execute_result"
    }
   ],
   "source": [
    "zipcodes[:10]"
   ]
  },
  {
   "cell_type": "code",
   "execution_count": 14,
   "id": "50ee6a09",
   "metadata": {},
   "outputs": [],
   "source": [
    "unique_zipcodes = list(set(zipcodes))"
   ]
  },
  {
   "cell_type": "code",
   "execution_count": 15,
   "id": "f559a8aa",
   "metadata": {},
   "outputs": [],
   "source": [
    "unique_zipcodes.sort()"
   ]
  },
  {
   "cell_type": "code",
   "execution_count": 16,
   "id": "2bd8e9bd",
   "metadata": {},
   "outputs": [
    {
     "data": {
      "text/plain": [
       "['02115',\n",
       " '02138',\n",
       " '02139',\n",
       " '02155',\n",
       " '06520',\n",
       " '07470',\n",
       " '08077',\n",
       " '08901',\n",
       " '10003',\n",
       " '10021']"
      ]
     },
     "execution_count": 16,
     "metadata": {},
     "output_type": "execute_result"
    }
   ],
   "source": [
    "unique_zipcodes[:10]"
   ]
  },
  {
   "cell_type": "code",
   "execution_count": 17,
   "id": "50505513",
   "metadata": {},
   "outputs": [
    {
     "data": {
      "text/plain": [
       "75"
      ]
     },
     "execution_count": 17,
     "metadata": {},
     "output_type": "execute_result"
    }
   ],
   "source": [
    "len(unique_zipcodes)"
   ]
  },
  {
   "cell_type": "code",
   "execution_count": 18,
   "id": "93e31fe6",
   "metadata": {},
   "outputs": [],
   "source": [
    "import csv "
   ]
  },
  {
   "cell_type": "code",
   "execution_count": 31,
   "id": "9df9412b",
   "metadata": {},
   "outputs": [],
   "source": [
    "zip_coordinates = {}\n",
    "with open('data/country_coords1.txt') as f:\n",
    "    csvr = csv.DictReader(f)\n",
    "    \n",
    "    for row in csvr:\n",
    "        country_coords[row['Country']] = [float(row['LT']), \n",
    "                                          float(row['LG'])]\n"
   ]
  },
  {
   "cell_type": "code",
   "execution_count": 35,
   "id": "1d16b6da",
   "metadata": {},
   "outputs": [],
   "source": [
    "zip_code = []\n",
    "zip_LG = []\n",
    "zip_LT = []\n",
    "zip_count = []"
   ]
  },
  {
   "cell_type": "code",
   "execution_count": 36,
   "id": "bcf68359",
   "metadata": {},
   "outputs": [],
   "source": [
    "for z in unique_zipcodes:\n",
    "    # if we can find the coordinates\n",
    "    if z in zip_coordinates.keys():\n",
    "        zip_code.append(z)\n",
    "        zip_LT.append(zip_coordinates[z][0])\n",
    "        zip_LG.append(zip_coordinates[z][1])\n",
    "        zip_count.append(zipcodes.count(z))"
   ]
  },
  {
   "cell_type": "code",
   "execution_count": 100,
   "id": "6cbfd63b",
   "metadata": {},
   "outputs": [
    {
     "data": {
      "image/png": "[encoded data removed]",
      "text/plain": [
       "<Figure size 1296x864 with 2 Axes>"
      ]
     },
     "metadata": {
      "needs_background": "light"
     },
     "output_type": "display_data"
    }
   ],
   "source": [
    "\n",
    "import matplotlib.pyplot as plt\n",
    "%matplotlib inline\n",
    "plt.scatter(zip_LG, zip_LT, s = zip_count, c= zip_count)\n",
    "plt.colorbar()\n",
    "# only continental us without Alaska\n",
    "plt.xlim(-130,200)\n",
    "plt.ylim(-60, 80)\n",
    "# add a few cities for reference (optional)\n",
    "ard = dict(arrowstyle=\"->\")\n",
    "plt.scatter(-95.712891,37.09024,s=500)\n",
    "plt.scatter(-3.435973,  55.378051,s=250)\n",
    "plt.scatter(-51.92528, -14.23500,s=250)\n",
    "plt.scatter(104.195397 ,35.861661,s=1000)\n",
    "plt.scatter(133.775136,-25.274398,s=250)\n",
    "plt.scatter(8.468946,60.472024,s=250)\n",
    "plt.annotate('USA', xy = (-95.712891,37.09024), \n",
    "               xytext = (-65, 40), arrowprops = ard)\n",
    "plt.annotate('UK', xy = (-3.435973, 55.378051), \n",
    "               xytext = (-8, 65), arrowprops= ard)\n",
    "plt.annotate('Brazil', xy = (-51.92528, -14.235004), \n",
    "               xytext = (-45, -10), arrowprops= ard)\n",
    "plt.annotate('China', xy = (104.195397,35.86166), \n",
    "               xytext = (90, 30), arrowprops= ard)\n",
    "plt.annotate('Australia', xy = (133.775136,-25.274398), \n",
    "               xytext = (120, -35), arrowprops= ard)\n",
    "plt.annotate('Norway', xy = (8.468946,60.472024), \n",
    "               xytext = (-10, 52), arrowprops= ard)\n",
    "params = plt.gcf()\n",
    "plSize = params.get_size_inches()\n",
    "params.set_size_inches( (plSize[0] * 3, plSize[1] * 3) )\n",
    "plt.show()"
   ]
  },
  {
   "cell_type": "code",
   "execution_count": null,
   "id": "6270053f",
   "metadata": {},
   "outputs": [],
   "source": []
  }
 ],
 "metadata": {
  "kernelspec": {
   "display_name": "Python 3 (ipykernel)",
   "language": "python",
   "name": "python3"
  },
  "language_info": {
   "codemirror_mode": {
    "name": "ipython",
    "version": 3
   },
   "file_extension": ".py",
   "mimetype": "text/x-python",
   "name": "python",
   "nbconvert_exporter": "python",
   "pygments_lexer": "ipython3",
   "version": "3.9.7"
  }
 },
 "nbformat": 4,
 "nbformat_minor": 5
}
